{
  "nbformat": 4,
  "nbformat_minor": 0,
  "metadata": {
    "colab": {
      "provenance": []
    },
    "kernelspec": {
      "name": "python3",
      "display_name": "Python 3"
    },
    "language_info": {
      "name": "python"
    }
  },
  "cells": [
    {
      "cell_type": "markdown",
      "source": [
        "Import Libraries"
      ],
      "metadata": {
        "id": "FuhpG6OFIPNO"
      }
    },
    {
      "cell_type": "code",
      "execution_count": 1,
      "metadata": {
        "id": "fMkXU3QmIDW8"
      },
      "outputs": [],
      "source": [
        "import numpy as np\n",
        "import tensorflow as tf\n",
        "from tensorflow.keras.models import Model\n",
        "from tensorflow.keras.layers import Embedding, LSTM, Dense, Dropout\n",
        "from tensorflow.keras.optimizers import Adam"
      ]
    },
    {
      "cell_type": "markdown",
      "source": [
        "Load and Preprocess Text"
      ],
      "metadata": {
        "id": "Dno6fssmJCYM"
      }
    },
    {
      "cell_type": "code",
      "source": [
        "with open('pg2265.txt', 'r', encoding='utf-8') as f:\n",
        "    text = f.read()[15858:]\n",
        "\n",
        "chars = sorted(set(text))\n",
        "char2int = {ch: i for i, ch in enumerate(chars)}\n",
        "int2char = dict(enumerate(chars))\n",
        "encoded = np.array([char2int[ch] for ch in text])\n",
        "vocab_size = len(chars)"
      ],
      "metadata": {
        "id": "1DD8iOd4JFaO"
      },
      "execution_count": 3,
      "outputs": []
    },
    {
      "cell_type": "markdown",
      "source": [
        "Prepare Sequences"
      ],
      "metadata": {
        "id": "nF3tRmr3JIdV"
      }
    },
    {
      "cell_type": "code",
      "source": [
        "seq_length = 50  # increased from 10 to 50\n",
        "sequences, targets = [], []\n",
        "\n",
        "for i in range(len(encoded) - seq_length):\n",
        "    sequences.append(encoded[i:i + seq_length])\n",
        "    targets.append(encoded[i + seq_length])\n",
        "\n",
        "sequences = np.array(sequences)\n",
        "targets = np.array(targets)"
      ],
      "metadata": {
        "id": "migB83otJUv9"
      },
      "execution_count": 4,
      "outputs": []
    },
    {
      "cell_type": "markdown",
      "source": [
        "Define CharRNN Model"
      ],
      "metadata": {
        "id": "RU3q96TaJZ2X"
      }
    },
    {
      "cell_type": "code",
      "source": [
        "class CharRNN(Model):\n",
        "    def __init__(self, vocab_size, embedding_dim=64, lstm_units=128):\n",
        "        super(CharRNN, self).__init__()\n",
        "        self.embedding = Embedding(vocab_size, embedding_dim)\n",
        "        self.lstm = LSTM(lstm_units, return_sequences=False)\n",
        "        self.dropout = Dropout(0.2)\n",
        "        self.dense = Dense(vocab_size, activation='softmax')\n",
        "\n",
        "    def call(self, x):\n",
        "        x = self.embedding(x)\n",
        "        x = self.lstm(x)\n",
        "        x = self.dropout(x)\n",
        "        return self.dense(x)"
      ],
      "metadata": {
        "id": "BPymhM8gJdeJ"
      },
      "execution_count": 5,
      "outputs": []
    },
    {
      "cell_type": "markdown",
      "source": [
        "Train the Model & Save Trained Weights"
      ],
      "metadata": {
        "id": "6lTKz4V1JhBB"
      }
    },
    {
      "cell_type": "code",
      "source": [
        "model = CharRNN(vocab_size)\n",
        "model.compile(loss='sparse_categorical_crossentropy', optimizer=Adam(), metrics=['accuracy'])\n",
        "\n",
        "model.fit(sequences, targets, epochs=5, batch_size=16)\n",
        "\n",
        "model.save_weights('char_rnn_tf2.weights.h5')"
      ],
      "metadata": {
        "colab": {
          "base_uri": "https://localhost:8080/"
        },
        "id": "ot_2ofdRJkIt",
        "outputId": "f2844126-9388-4963-ad6f-0323304f45f2"
      },
      "execution_count": 6,
      "outputs": [
        {
          "output_type": "stream",
          "name": "stdout",
          "text": [
            "Epoch 1/5\n",
            "\u001b[1m10175/10175\u001b[0m \u001b[32m━━━━━━━━━━━━━━━━━━━━\u001b[0m\u001b[37m\u001b[0m \u001b[1m382s\u001b[0m 37ms/step - accuracy: 0.3323 - loss: 2.4126\n",
            "Epoch 2/5\n",
            "\u001b[1m10175/10175\u001b[0m \u001b[32m━━━━━━━━━━━━━━━━━━━━\u001b[0m\u001b[37m\u001b[0m \u001b[1m383s\u001b[0m 37ms/step - accuracy: 0.4749 - loss: 1.8080\n",
            "Epoch 3/5\n",
            "\u001b[1m10175/10175\u001b[0m \u001b[32m━━━━━━━━━━━━━━━━━━━━\u001b[0m\u001b[37m\u001b[0m \u001b[1m391s\u001b[0m 38ms/step - accuracy: 0.5089 - loss: 1.6737\n",
            "Epoch 4/5\n",
            "\u001b[1m10175/10175\u001b[0m \u001b[32m━━━━━━━━━━━━━━━━━━━━\u001b[0m\u001b[37m\u001b[0m \u001b[1m390s\u001b[0m 38ms/step - accuracy: 0.5263 - loss: 1.6048\n",
            "Epoch 5/5\n",
            "\u001b[1m10175/10175\u001b[0m \u001b[32m━━━━━━━━━━━━━━━━━━━━\u001b[0m\u001b[37m\u001b[0m \u001b[1m437s\u001b[0m 38ms/step - accuracy: 0.5379 - loss: 1.5574\n"
          ]
        }
      ]
    },
    {
      "cell_type": "markdown",
      "source": [
        "Text Generation Function"
      ],
      "metadata": {
        "id": "15lrG9vyJpdC"
      }
    },
    {
      "cell_type": "code",
      "source": [
        "def sample_text(model, start_string, length=500, temperature=0.5):\n",
        "    input_eval = [char2int[s] for s in start_string]\n",
        "    input_eval = tf.expand_dims(input_eval, 0)  # shape: (1, seq_length)\n",
        "    result = list(start_string)\n",
        "\n",
        "    for _ in range(length):\n",
        "        predictions = model(input_eval)  # shape: (1, vocab_size)\n",
        "        predictions = predictions / temperature\n",
        "        predicted_id = tf.random.categorical(tf.math.log(predictions), num_samples=1)[0, 0].numpy()\n",
        "\n",
        "        result.append(int2char[predicted_id])\n",
        "        input_eval = tf.expand_dims([predicted_id], 0)  # shape: (1, 1)\n",
        "\n",
        "    return ''.join(result)\n"
      ],
      "metadata": {
        "id": "I1ep7X-KKIhQ"
      },
      "execution_count": 7,
      "outputs": []
    },
    {
      "cell_type": "markdown",
      "source": [
        "Reload Model and Generate"
      ],
      "metadata": {
        "id": "4--8TROALdvt"
      }
    },
    {
      "cell_type": "code",
      "source": [
        "model = CharRNN(vocab_size)\n",
        "_ = model(tf.zeros((1, seq_length), dtype=tf.int32))\n",
        "model.load_weights('char_rnn_tf2.weights.h5')\n"
      ],
      "metadata": {
        "id": "tI0rwCKdLesB"
      },
      "execution_count": 8,
      "outputs": []
    },
    {
      "cell_type": "markdown",
      "source": [
        "final Output"
      ],
      "metadata": {
        "id": "uEi3sGulLiaW"
      }
    },
    {
      "cell_type": "code",
      "source": [
        "start_seed = \"The moonlight shone through the window, and \"\n",
        "print(sample_text(model, start_string=start_seed, length=500, temperature=0.6))"
      ],
      "metadata": {
        "colab": {
          "base_uri": "https://localhost:8080/"
        },
        "id": "ZXhTxQb3LkBm",
        "outputId": "a8e301e1-1066-4fbf-e73c-7b01cf6146b2"
      },
      "execution_count": 9,
      "outputs": [
        {
          "output_type": "stream",
          "name": "stdout",
          "text": [
            "The moonlight shone through the window, and rCfAjmsDumx\n",
            "SEd1kjY&\n",
            "Qus& ;1k(\n",
            "DikchEKevusK CyKe(Kon.1?1] pQu HEKnjcie(O l-d1NWw1k(M]G[NE(T?1] K]Kik(WaqunjsCclzKpn&,1g1& CchE](STevnjk\n",
            "WrEKsPll[L&DEKnVWZ&djRfDCgZ& NgjsWe\n",
            "1pwQun]?1& B&.1Lja:1y&!1y&\n",
            "WKh(HEK(Tw1y& fGuifr] mOiS]HEar;1crchEKY1sTevEGu HE1HEQuY&vY&,1knRounj(Fay&-HEKie-\n",
            "Rk(BZ& I fm-L&EB&vbZQunjDa!1:1HENMEY& H?1kponjsN&\n",
            ";1Wh(AoFrpQulIvsM!1Klgj;1L&'Nk\n",
            "Tw1.1Fo-HEqb&O SxEPsfsB(DuanlapK'HEB(NoD&;1jTnsE(CrESDeY& Pa t&-ECkz&;1kpOclgjsO GhjbE(NjnwQunjWjb&Vpqbj(Guied1z&FCw1Aqb(TMEGus(BY1.1pOWA\n"
          ]
        }
      ]
    },
    {
      "cell_type": "markdown",
      "source": [
        "Spell Correction"
      ],
      "metadata": {
        "id": "1NbKlcyYT4cr"
      }
    },
    {
      "cell_type": "code",
      "source": [
        "from difflib import get_close_matches\n",
        "from nltk.corpus import words\n",
        "import nltk\n",
        "nltk.download('words')\n",
        "\n",
        "word_vocab = set(words.words())\n",
        "\n",
        "def correct_spelling(word, vocab):\n",
        "    candidates = get_close_matches(word, vocab, n=1, cutoff=0.8)\n",
        "    return candidates[0] if candidates else word\n",
        "\n",
        "\n",
        "input_words = [\"fo\", \"moonligt\", \"wndow\", \"languae\", \"texxt\", \"neaural\"]\n",
        "corrected = [correct_spelling(word, word_vocab) for word in input_words]\n",
        "print(\"Corrected words:\", corrected)"
      ],
      "metadata": {
        "colab": {
          "base_uri": "https://localhost:8080/"
        },
        "id": "vEPmc_rvT9Lc",
        "outputId": "759164cc-424b-4854-bc99-afedb8e025ef"
      },
      "execution_count": 10,
      "outputs": [
        {
          "output_type": "stream",
          "name": "stderr",
          "text": [
            "[nltk_data] Downloading package words to /root/nltk_data...\n",
            "[nltk_data]   Unzipping corpora/words.zip.\n"
          ]
        },
        {
          "output_type": "stream",
          "name": "stdout",
          "text": [
            "Corrected words: ['fro', 'moonlight', 'window', 'language', 'text', 'neural']\n"
          ]
        }
      ]
    },
    {
      "cell_type": "markdown",
      "source": [
        "Character-level Sentiment Proxy"
      ],
      "metadata": {
        "id": "-rYaBQoTUQEL"
      }
    },
    {
      "cell_type": "code",
      "source": [
        "from textblob import TextBlob\n",
        "\n",
        "def real_sentiment(text):\n",
        "    blob = TextBlob(text)\n",
        "    polarity = blob.sentiment.polarity\n",
        "    if polarity > 0:\n",
        "        return \"Positive\"\n",
        "    elif polarity < 0:\n",
        "        return \"Negative\"\n",
        "    else:\n",
        "        return \"Neutral\"\n",
        "\n",
        "\n",
        "generated_text = sample_text(model, \" we and i wandered alone, the light glimmered from afar \", 100)\n",
        "print(\"Text:\", generated_text)\n",
        "print(\"Sentiment estimate:\", real_sentiment(generated_text))\n",
        "\n"
      ],
      "metadata": {
        "colab": {
          "base_uri": "https://localhost:8080/"
        },
        "id": "dNmznVvnUUdd",
        "outputId": "17cbaf3f-4240-46d8-af99-2a0979f1b179"
      },
      "execution_count": 11,
      "outputs": [
        {
          "output_type": "stream",
          "name": "stdout",
          "text": [
            "Text:  we and i wandered alone, the light glimmered from afar Vevnjy&DonjgjxQ[Z&:1[&fI?&Y1kjvB(SCkB& njcnk!1;1kxEDa pz& WevW&\n",
            "Ad1HEvb(NEKikjntrEKnjd:1(SSKnjKa t[L\n",
            "Sentiment estimate: Positive\n"
          ]
        }
      ]
    },
    {
      "cell_type": "markdown",
      "source": [
        "Text Autocompletion"
      ],
      "metadata": {
        "id": "zvoV5eIZUfRD"
      }
    },
    {
      "cell_type": "code",
      "source": [
        "def clean_input(text, valid_chars):\n",
        "    return ''.join(ch for ch in text if ch in valid_chars)\n",
        "\n",
        "def autocomplete(prefix, model, max_completion=50, temperature=0.5, fallback=\"The\"):\n",
        "    cleaned_prefix = clean_input(prefix, char2int.keys())\n",
        "    if not cleaned_prefix:\n",
        "        cleaned_prefix = fallback\n",
        "    return sample_text(model, start_string=cleaned_prefix, length=max_completion, temperature=temperature)\n",
        "\n",
        "# --- Example Usage ---\n",
        "inputs = [\"The sur\"]\n",
        "for inp in inputs:\n",
        "    print(f\"\\nInput: '{inp}'\")\n",
        "    print(\"→ Autocompletion:\", autocomplete(inp, model))"
      ],
      "metadata": {
        "colab": {
          "base_uri": "https://localhost:8080/"
        },
        "id": "QKsJdQggUgh8",
        "outputId": "83d7c8c7-784a-4bc4-cb71-13b611f7bccd"
      },
      "execution_count": 12,
      "outputs": [
        {
          "output_type": "stream",
          "name": "stdout",
          "text": [
            "\n",
            "Input: 'The sur'\n",
            "→ Autocompletion: The surnjlWhY& ML&!1i[I,1ulg1L&WjnjsO [Kevnjrry&M?1kz(MWj\n"
          ]
        }
      ]
    }
  ]
}