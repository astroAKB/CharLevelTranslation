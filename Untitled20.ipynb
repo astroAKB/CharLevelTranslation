{
  "cells": [
    {
      "cell_type": "markdown",
      "metadata": {
        "id": "FuhpG6OFIPNO"
      },
      "source": [
        "Import Libraries"
      ]
    },
    {
      "cell_type": "code",
      "execution_count": 3,
      "metadata": {
        "id": "fMkXU3QmIDW8"
      },
      "outputs": [
        {
          "name": "stdout",
          "output_type": "stream",
          "text": [
            "pip 25.0.1 from /usr/local/python/3.12.1/lib/python3.12/site-packages/pip (python 3.12)\n",
            "\n"
          ]
        }
      ],
      "source": [
        "import subprocess\n",
        "result = subprocess.run(['/home/codespace/.python/current/bin/pip', '--version'], capture_output=True, text=True)\n",
        "print(result.stdout)"
      ]
    },
    {
      "cell_type": "code",
      "execution_count": 5,
      "metadata": {},
      "outputs": [
        {
          "name": "stdout",
          "output_type": "stream",
          "text": [
            "Requirement already satisfied: numpy in /usr/local/python/3.12.1/lib/python3.12/site-packages (2.2.5)\n"
          ]
        },
        {
          "name": "stderr",
          "output_type": "stream",
          "text": [
            "\n",
            "\u001b[1m[\u001b[0m\u001b[34;49mnotice\u001b[0m\u001b[1;39;49m]\u001b[0m\u001b[39;49m A new release of pip is available: \u001b[0m\u001b[31;49m25.0.1\u001b[0m\u001b[39;49m -> \u001b[0m\u001b[32;49m25.1.1\u001b[0m\n",
            "\u001b[1m[\u001b[0m\u001b[34;49mnotice\u001b[0m\u001b[1;39;49m]\u001b[0m\u001b[39;49m To update, run: \u001b[0m\u001b[32;49mpython3 -m pip install --upgrade pip\u001b[0m\n"
          ]
        },
        {
          "data": {
            "text/plain": [
              "CompletedProcess(args=['/home/codespace/.python/current/bin/pip', 'install', 'numpy', '-U'], returncode=0)"
            ]
          },
          "execution_count": 5,
          "metadata": {},
          "output_type": "execute_result"
        }
      ],
      "source": [
        "subprocess.run(['/home/codespace/.python/current/bin/pip', 'install', 'numpy', '-U'], check=True)"
      ]
    },
    {
      "cell_type": "code",
      "execution_count": 13,
      "metadata": {},
      "outputs": [
        {
          "name": "stdout",
          "output_type": "stream",
          "text": [
            "Collecting numpy\n",
            "  Using cached numpy-2.2.5-cp312-cp312-manylinux_2_17_x86_64.manylinux2014_x86_64.whl.metadata (62 kB)\n",
            "Using cached numpy-2.2.5-cp312-cp312-manylinux_2_17_x86_64.manylinux2014_x86_64.whl (16.1 MB)\n",
            "Installing collected packages: numpy\n",
            "  Attempting uninstall: numpy\n",
            "    Found existing installation: numpy 2.2.5\n",
            "    Uninstalling numpy-2.2.5:\n",
            "      Successfully uninstalled numpy-2.2.5\n",
            "Successfully installed numpy-2.2.5\n"
          ]
        },
        {
          "name": "stderr",
          "output_type": "stream",
          "text": [
            "\n",
            "\u001b[1m[\u001b[0m\u001b[34;49mnotice\u001b[0m\u001b[1;39;49m]\u001b[0m\u001b[39;49m A new release of pip is available: \u001b[0m\u001b[31;49m25.0.1\u001b[0m\u001b[39;49m -> \u001b[0m\u001b[32;49m25.1.1\u001b[0m\n",
            "\u001b[1m[\u001b[0m\u001b[34;49mnotice\u001b[0m\u001b[1;39;49m]\u001b[0m\u001b[39;49m To update, run: \u001b[0m\u001b[32;49mpython3 -m pip install --upgrade pip\u001b[0m\n"
          ]
        },
        {
          "data": {
            "text/plain": [
              "CompletedProcess(args=['/home/codespace/.python/current/bin/pip', 'install', '--force-reinstall', 'numpy'], returncode=0)"
            ]
          },
          "execution_count": 13,
          "metadata": {},
          "output_type": "execute_result"
        }
      ],
      "source": [
        "import subprocess\n",
        "subprocess.run(['/home/codespace/.python/current/bin/pip', 'install', '--force-reinstall', 'numpy'], check=True)"
      ]
    },
    {
      "cell_type": "code",
      "execution_count": 1,
      "metadata": {},
      "outputs": [
        {
          "name": "stdout",
          "output_type": "stream",
          "text": [
            "2.2.5\n"
          ]
        }
      ],
      "source": [
        "import numpy as np\n",
        "print(np.__version__)"
      ]
    },
    {
      "cell_type": "code",
      "execution_count": 4,
      "metadata": {},
      "outputs": [],
      "source": [
        "import pickle\n",
        "\n",
        "# Assuming 'my_model' is your trained model object\n",
        "model_filename = 'trained_model.pkl'"
      ]
    },
    {
      "cell_type": "code",
      "execution_count": 5,
      "metadata": {},
      "outputs": [
        {
          "name": "stderr",
          "output_type": "stream",
          "text": [
            "2025-05-04 14:53:27.428716: I external/local_xla/xla/tsl/cuda/cudart_stub.cc:32] Could not find cuda drivers on your machine, GPU will not be used.\n",
            "2025-05-04 14:53:27.718226: I external/local_xla/xla/tsl/cuda/cudart_stub.cc:32] Could not find cuda drivers on your machine, GPU will not be used.\n",
            "2025-05-04 14:53:27.864866: E external/local_xla/xla/stream_executor/cuda/cuda_fft.cc:467] Unable to register cuFFT factory: Attempting to register factory for plugin cuFFT when one has already been registered\n",
            "WARNING: All log messages before absl::InitializeLog() is called are written to STDERR\n",
            "E0000 00:00:1746370408.063898    2866 cuda_dnn.cc:8579] Unable to register cuDNN factory: Attempting to register factory for plugin cuDNN when one has already been registered\n",
            "E0000 00:00:1746370408.159088    2866 cuda_blas.cc:1407] Unable to register cuBLAS factory: Attempting to register factory for plugin cuBLAS when one has already been registered\n",
            "W0000 00:00:1746370408.796617    2866 computation_placer.cc:177] computation placer already registered. Please check linkage and avoid linking the same target more than once.\n",
            "W0000 00:00:1746370408.796659    2866 computation_placer.cc:177] computation placer already registered. Please check linkage and avoid linking the same target more than once.\n",
            "W0000 00:00:1746370408.796665    2866 computation_placer.cc:177] computation placer already registered. Please check linkage and avoid linking the same target more than once.\n",
            "W0000 00:00:1746370408.796668    2866 computation_placer.cc:177] computation placer already registered. Please check linkage and avoid linking the same target more than once.\n",
            "2025-05-04 14:53:28.822491: I tensorflow/core/platform/cpu_feature_guard.cc:210] This TensorFlow binary is optimized to use available CPU instructions in performance-critical operations.\n",
            "To enable the following instructions: AVX2 FMA, in other operations, rebuild TensorFlow with the appropriate compiler flags.\n"
          ]
        }
      ],
      "source": [
        "import numpy as np\n",
        "import tensorflow as tf\n",
        "from tensorflow.keras.models import Model\n",
        "from tensorflow.keras.layers import Embedding, LSTM, Dense, Dropout\n",
        "from tensorflow.keras.optimizers import Adam"
      ]
    },
    {
      "cell_type": "markdown",
      "metadata": {
        "id": "Dno6fssmJCYM"
      },
      "source": [
        "Load and Preprocess Text"
      ]
    },
    {
      "cell_type": "code",
      "execution_count": 6,
      "metadata": {
        "id": "1DD8iOd4JFaO"
      },
      "outputs": [],
      "source": [
        "with open('abc.txt', 'r', encoding='utf-8') as f:\n",
        "    text = f.read()\n",
        "\n",
        "chars = sorted(set(text))\n",
        "char2int = {ch: i for i, ch in enumerate(chars)}\n",
        "int2char = dict(enumerate(chars))\n",
        "encoded = np.array([char2int[ch] for ch in text])\n",
        "vocab_size = len(chars)"
      ]
    },
    {
      "cell_type": "markdown",
      "metadata": {
        "id": "nF3tRmr3JIdV"
      },
      "source": [
        "Prepare Sequences"
      ]
    },
    {
      "cell_type": "code",
      "execution_count": 7,
      "metadata": {
        "id": "migB83otJUv9"
      },
      "outputs": [],
      "source": [
        "seq_length = 50  # increased from 10 to 50\n",
        "sequences, targets = [], []\n",
        "\n",
        "for i in range(len(encoded) - seq_length):\n",
        "    sequences.append(encoded[i:i + seq_length])\n",
        "    targets.append(encoded[i + seq_length])\n",
        "\n",
        "sequences = np.array(sequences)\n",
        "targets = np.array(targets)"
      ]
    },
    {
      "cell_type": "markdown",
      "metadata": {
        "id": "RU3q96TaJZ2X"
      },
      "source": [
        "Define CharRNN Model"
      ]
    },
    {
      "cell_type": "code",
      "execution_count": 8,
      "metadata": {
        "id": "BPymhM8gJdeJ"
      },
      "outputs": [],
      "source": [
        "class CharRNN(Model):\n",
        "    def __init__(self, vocab_size, embedding_dim=64, lstm_units=128):\n",
        "        super(CharRNN, self).__init__()\n",
        "        self.embedding = Embedding(vocab_size, embedding_dim)\n",
        "        self.lstm = LSTM(lstm_units, return_sequences=False)\n",
        "        self.dropout = Dropout(0.2)\n",
        "        self.dense = Dense(vocab_size, activation='softmax')\n",
        "\n",
        "    def call(self, x):\n",
        "        x = self.embedding(x)\n",
        "        x = self.lstm(x)\n",
        "        x = self.dropout(x)\n",
        "        return self.dense(x)"
      ]
    },
    {
      "cell_type": "markdown",
      "metadata": {
        "id": "6lTKz4V1JhBB"
      },
      "source": [
        "Train the Model & Save Trained Weights"
      ]
    },
    {
      "cell_type": "code",
      "execution_count": 9,
      "metadata": {
        "colab": {
          "base_uri": "https://localhost:8080/"
        },
        "id": "ot_2ofdRJkIt",
        "outputId": "f2844126-9388-4963-ad6f-0323304f45f2"
      },
      "outputs": [
        {
          "name": "stdout",
          "output_type": "stream",
          "text": [
            "Epoch 1/5\n"
          ]
        },
        {
          "name": "stderr",
          "output_type": "stream",
          "text": [
            "2025-05-04 14:54:07.149601: E external/local_xla/xla/stream_executor/cuda/cuda_platform.cc:51] failed call to cuInit: INTERNAL: CUDA error: Failed call to cuInit: UNKNOWN ERROR (303)\n",
            "2025-05-04 14:54:07.247756: W external/local_xla/xla/tsl/framework/cpu_allocator_impl.cc:83] Allocation of 65124400 exceeds 10% of free system memory.\n"
          ]
        },
        {
          "name": "stdout",
          "output_type": "stream",
          "text": [
            "\u001b[1m   18/10176\u001b[0m \u001b[37m━━━━━━━━━━━━━━━━━━━━\u001b[0m \u001b[1m4:14\u001b[0m 25ms/step - accuracy: 0.0711 - loss: 4.0750"
          ]
        },
        {
          "name": "stdout",
          "output_type": "stream",
          "text": [
            "\u001b[1m10176/10176\u001b[0m \u001b[32m━━━━━━━━━━━━━━━━━━━━\u001b[0m\u001b[37m\u001b[0m \u001b[1m330s\u001b[0m 32ms/step - accuracy: 0.3291 - loss: 2.4135\n",
            "Epoch 2/5\n",
            "\u001b[1m10176/10176\u001b[0m \u001b[32m━━━━━━━━━━━━━━━━━━━━\u001b[0m\u001b[37m\u001b[0m \u001b[1m331s\u001b[0m 27ms/step - accuracy: 0.4631 - loss: 1.8364\n",
            "Epoch 3/5\n",
            "\u001b[1m10176/10176\u001b[0m \u001b[32m━━━━━━━━━━━━━━━━━━━━\u001b[0m\u001b[37m\u001b[0m \u001b[1m275s\u001b[0m 27ms/step - accuracy: 0.5007 - loss: 1.6959\n",
            "Epoch 4/5\n",
            "\u001b[1m10176/10176\u001b[0m \u001b[32m━━━━━━━━━━━━━━━━━━━━\u001b[0m\u001b[37m\u001b[0m \u001b[1m393s\u001b[0m 34ms/step - accuracy: 0.5219 - loss: 1.6214\n",
            "Epoch 5/5\n",
            "\u001b[1m10176/10176\u001b[0m \u001b[32m━━━━━━━━━━━━━━━━━━━━\u001b[0m\u001b[37m\u001b[0m \u001b[1m371s\u001b[0m 36ms/step - accuracy: 0.5357 - loss: 1.5698\n"
          ]
        }
      ],
      "source": [
        "model = CharRNN(vocab_size)\n",
        "model.compile(loss='sparse_categorical_crossentropy', optimizer=Adam(), metrics=['accuracy'])\n",
        "\n",
        "model.fit(sequences, targets, epochs=5, batch_size=16)\n",
        "\n",
        "model.save_weights('char_rnn_tf2.weights.h5')"
      ]
    },
    {
      "cell_type": "code",
      "execution_count": 10,
      "metadata": {},
      "outputs": [
        {
          "name": "stdout",
          "output_type": "stream",
          "text": [
            "Model saved successfully to 'trained_model.pkl'\n"
          ]
        }
      ],
      "source": [
        "with open(model_filename, 'wb') as file:\n",
        "    pickle.dump(model, file)\n",
        "\n",
        "print(f\"Model saved successfully to '{model_filename}'\")"
      ]
    },
    {
      "cell_type": "code",
      "execution_count": 11,
      "metadata": {},
      "outputs": [
        {
          "name": "stdout",
          "output_type": "stream",
          "text": [
            "char2int and int2char saved successfully!\n"
          ]
        }
      ],
      "source": [
        "with open('char2int.pkl', 'wb') as f:\n",
        "    pickle.dump(char2int, f)\n",
        "\n",
        "with open('int2char.pkl', 'wb') as f:\n",
        "    pickle.dump(int2char, f)\n",
        "\n",
        "print(\"char2int and int2char saved successfully!\")"
      ]
    },
    {
      "cell_type": "markdown",
      "metadata": {
        "id": "15lrG9vyJpdC"
      },
      "source": [
        "Text Generation Function"
      ]
    },
    {
      "cell_type": "code",
      "execution_count": 12,
      "metadata": {
        "id": "I1ep7X-KKIhQ"
      },
      "outputs": [],
      "source": [
        "def Sample_text(model, start_string, length=500, temperature=0.5):\n",
        "    input_eval = [char2int[s] for s in start_string]\n",
        "    input_eval = tf.expand_dims(input_eval, 0)  # shape: (1, seq_length)\n",
        "    result = list(start_string)\n",
        "\n",
        "    for _ in range(length):\n",
        "        predictions = model(input_eval)  # shape: (1, vocab_size)\n",
        "        predictions = predictions / temperature\n",
        "        predicted_id = tf.random.categorical(tf.math.log(predictions), num_samples=1)[0, 0].numpy()\n",
        "\n",
        "        result.append(int2char[predicted_id])\n",
        "        input_eval = tf.expand_dims([predicted_id], 0)  # shape: (1, 1)\n",
        "\n",
        "    return ''.join(result)\n"
      ]
    },
    {
      "cell_type": "markdown",
      "metadata": {
        "id": "4--8TROALdvt"
      },
      "source": [
        "Reload Model and Generate"
      ]
    },
    {
      "cell_type": "code",
      "execution_count": null,
      "metadata": {
        "id": "tI0rwCKdLesB"
      },
      "outputs": [],
      "source": [
        "_ = model(tf.zeros((1, seq_length), dtype=tf.int32))\n",
        "model.load_weights('char_rnn_tf2.weights.h5')\n"
      ]
    },
    {
      "cell_type": "markdown",
      "metadata": {
        "id": "uEi3sGulLiaW"
      },
      "source": [
        "final Output"
      ]
    },
    {
      "cell_type": "code",
      "execution_count": null,
      "metadata": {
        "colab": {
          "base_uri": "https://localhost:8080/"
        },
        "id": "ZXhTxQb3LkBm",
        "outputId": "a8e301e1-1066-4fbf-e73c-7b01cf6146b2"
      },
      "outputs": [
        {
          "name": "stdout",
          "output_type": "stream",
          "text": [
            "The moonlight shone through the window, and wxmOfokzZ Vpjcubo-Do&:1Nq'jnfrKegxsAupFrY1CzAsj mPzjtwjy\n",
            "\n",
            "CjnugiY1brOVnLrMNY1\n",
            "A-Fe& PnVuh1frQugqurARen[apCzNmZ\n",
            "trToPe&frTjxaRu&BAk& LOQunL& Hjkjnz]1YKaFiY1\n",
            "im& th1OoWjnv)1\n",
            "i1Ctw[o dye&1nmY1SgorLKz&KjxI&,1Wj1SFnym(Hjiz]1fr(\n",
            "O&, jMquvpAioVwxmVlg[onsjxiEKecI)1QqugaBK'li&lok&) F]1\n",
            "Obles:SkpjdqE-Lldx!1be(m&Rqa,1TjScR'l'fy\n",
            "(T[o(a!1Hjly:11N& jfe.1ibdBYKiO&At!,1NY1fy1Tjth1Y1VsoWjvzarOScj:1mFrLjy1twxabqo!1.jm& TjfaGokjndanTj ETjkj?,1\n",
            "O&CeY1t:1napBqugze&?)1C]1nqujRgiCpj\n",
            "\n",
            "O& Fz]1Rnt]1ith1ViKugoYRAxiNZnF; E\n"
          ]
        }
      ],
      "source": [
        "start_seed = \"The moonlight shone through the window, and \"\n",
        "print(Sample_text(model, start_string=start_seed, length=500, temperature=0.6))"
      ]
    },
    {
      "cell_type": "markdown",
      "metadata": {
        "id": "1NbKlcyYT4cr"
      },
      "source": [
        "Spell Correction"
      ]
    },
    {
      "cell_type": "code",
      "execution_count": 10,
      "metadata": {
        "colab": {
          "base_uri": "https://localhost:8080/"
        },
        "id": "vEPmc_rvT9Lc",
        "outputId": "759164cc-424b-4854-bc99-afedb8e025ef"
      },
      "outputs": [
        {
          "name": "stderr",
          "output_type": "stream",
          "text": [
            "[nltk_data] Downloading package words to /root/nltk_data...\n",
            "[nltk_data]   Unzipping corpora/words.zip.\n"
          ]
        },
        {
          "name": "stdout",
          "output_type": "stream",
          "text": [
            "Corrected words: ['fro', 'moonlight', 'window', 'language', 'text', 'neural']\n"
          ]
        }
      ],
      "source": [
        "from difflib import get_close_matches\n",
        "from nltk.corpus import words\n",
        "import nltk\n",
        "nltk.download('words')\n",
        "\n",
        "word_vocab = set(words.words())\n",
        "\n",
        "def correct_spelling(word, vocab):\n",
        "    candidates = get_close_matches(word, vocab, n=1, cutoff=0.8)\n",
        "    return candidates[0] if candidates else word\n",
        "\n",
        "\n",
        "input_words = [\"fo\", \"moonligt\", \"wndow\", \"languae\", \"texxt\", \"neaural\"]\n",
        "corrected = [correct_spelling(word, word_vocab) for word in input_words]\n",
        "print(\"Corrected words:\", corrected)"
      ]
    },
    {
      "cell_type": "markdown",
      "metadata": {
        "id": "-rYaBQoTUQEL"
      },
      "source": [
        "Character-level Sentiment Proxy"
      ]
    },
    {
      "cell_type": "code",
      "execution_count": 11,
      "metadata": {
        "colab": {
          "base_uri": "https://localhost:8080/"
        },
        "id": "dNmznVvnUUdd",
        "outputId": "17cbaf3f-4240-46d8-af99-2a0979f1b179"
      },
      "outputs": [
        {
          "name": "stdout",
          "output_type": "stream",
          "text": [
            "Text:  we and i wandered alone, the light glimmered from afar Vevnjy&DonjgjxQ[Z&:1[&fI?&Y1kjvB(SCkB& njcnk!1;1kxEDa pz& WevW&\n",
            "Ad1HEvb(NEKikjntrEKnjd:1(SSKnjKa t[L\n",
            "Sentiment estimate: Positive\n"
          ]
        }
      ],
      "source": [
        "from textblob import TextBlob\n",
        "\n",
        "def real_sentiment(text):\n",
        "    blob = TextBlob(text)\n",
        "    polarity = blob.sentiment.polarity\n",
        "    if polarity > 0:\n",
        "        return \"Positive\"\n",
        "    elif polarity < 0:\n",
        "        return \"Negative\"\n",
        "    else:\n",
        "        return \"Neutral\"\n",
        "\n",
        "\n",
        "generated_text = sample_text(model, \" we and i wandered alone, the light glimmered from afar \", 100)\n",
        "print(\"Text:\", generated_text)\n",
        "print(\"Sentiment estimate:\", real_sentiment(generated_text))\n",
        "\n"
      ]
    },
    {
      "cell_type": "markdown",
      "metadata": {
        "id": "zvoV5eIZUfRD"
      },
      "source": [
        "Text Autocompletion"
      ]
    },
    {
      "cell_type": "code",
      "execution_count": 12,
      "metadata": {
        "colab": {
          "base_uri": "https://localhost:8080/"
        },
        "id": "QKsJdQggUgh8",
        "outputId": "83d7c8c7-784a-4bc4-cb71-13b611f7bccd"
      },
      "outputs": [
        {
          "name": "stdout",
          "output_type": "stream",
          "text": [
            "\n",
            "Input: 'The sur'\n",
            "→ Autocompletion: The surnjlWhY& ML&!1i[I,1ulg1L&WjnjsO [Kevnjrry&M?1kz(MWj\n"
          ]
        }
      ],
      "source": [
        "def clean_input(text, valid_chars):\n",
        "    return ''.join(ch for ch in text if ch in valid_chars)\n",
        "\n",
        "def autocomplete(prefix, model, max_completion=50, temperature=0.5, fallback=\"The\"):\n",
        "    cleaned_prefix = clean_input(prefix, char2int.keys())\n",
        "    if not cleaned_prefix:\n",
        "        cleaned_prefix = fallback\n",
        "    return sample_text(model, start_string=cleaned_prefix, length=max_completion, temperature=temperature)\n",
        "\n",
        "# --- Example Usage ---\n",
        "inputs = [\"The sur\"]\n",
        "for inp in inputs:\n",
        "    print(f\"\\nInput: '{inp}'\")\n",
        "    print(\"→ Autocompletion:\", autocomplete(inp, model))"
      ]
    }
  ],
  "metadata": {
    "colab": {
      "provenance": []
    },
    "kernelspec": {
      "display_name": "Python 3",
      "language": "python",
      "name": "python3"
    },
    "language_info": {
      "codemirror_mode": {
        "name": "ipython",
        "version": 3
      },
      "file_extension": ".py",
      "mimetype": "text/x-python",
      "name": "python",
      "nbconvert_exporter": "python",
      "pygments_lexer": "ipython3",
      "version": "3.12.1"
    }
  },
  "nbformat": 4,
  "nbformat_minor": 0
}
